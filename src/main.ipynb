{
 "cells": [
  {
   "cell_type": "code",
   "execution_count": null,
   "metadata": {},
   "outputs": [],
   "source": [
    "# This would be the main notebook that would be run to execute the entire project"
   ]
  },
  {
   "attachments": {},
   "cell_type": "markdown",
   "metadata": {},
   "source": [
    "## Linear Regression:"
   ]
  },
  {
   "cell_type": "code",
   "execution_count": 2,
   "metadata": {},
   "outputs": [
    {
     "name": "stdout",
     "output_type": "stream",
     "text": [
      "Accuracy of Linear Regression model: 0.14943202276948986\n"
     ]
    }
   ],
   "source": [
    "from sklearn.linear_model import LinearRegression\n",
    "from sklearn.model_selection import train_test_split\n",
    "from sklearn.metrics import r2_score\n",
    "import pandas as pd\n",
    "\n",
    "# Read the CSV file\n",
    "data = pd.read_csv('../dataset/processedData/orders_weather_cluster_map_poi.csv')\n",
    "\n",
    "# Split the data into independent and dependent variables\n",
    "X = data.iloc[:, :-1].values\n",
    "y = data.iloc[:, -1].values\n",
    "\n",
    "# Split the data into training and testing sets\n",
    "X_train, X_test, y_train, y_test = train_test_split(X, y, test_size=0.2, random_state=0)\n",
    "\n",
    "# Create a Linear Regression model and fit the data\n",
    "lr = LinearRegression()\n",
    "lr.fit(X_train, y_train)\n",
    "\n",
    "# Predict the values for the test set\n",
    "y_pred = lr.predict(X_test)\n",
    "\n",
    "# Compute the R-squared score for the Linear Regression model\n",
    "accuracy = r2_score(y_test, y_pred)\n",
    "print(\"Accuracy of Linear Regression model:\", accuracy)\n"
   ]
  },
  {
   "attachments": {},
   "cell_type": "markdown",
   "metadata": {},
   "source": [
    "## MeanAbsoluteError"
   ]
  },
  {
   "cell_type": "code",
   "execution_count": 10,
   "metadata": {},
   "outputs": [
    {
     "name": "stdout",
     "output_type": "stream",
     "text": [
      "Mean Absolute Error: 6.2761405127911265e-15\n"
     ]
    }
   ],
   "source": [
    "import pandas as pd\n",
    "import numpy as np\n",
    "from sklearn.linear_model import LinearRegression\n",
    "\n",
    "# Read the CSV file\n",
    "data = pd.read_csv('../dataset/processedData/orders_weather_cluster_map_poi.csv')\n",
    "\n",
    "# Extract the relevant columns\n",
    "data = data[['region_id', 'time_slot', 'order_gap']]\n",
    "\n",
    "# Group by region and time slot, and calculate the mean actual and predicted gaps\n",
    "actual_predicted_gaps = data.groupby(['region_id', 'time_slot']).agg({'order_gap': ['mean']})\n",
    "actual_predicted_gaps.columns = ['actual_gap']\n",
    "\n",
    "# Train a Linear Regression model on the data\n",
    "lr = LinearRegression()\n",
    "X = data.groupby(['region_id', 'time_slot']).mean().reset_index().drop(['region_id', 'time_slot'], axis=1)\n",
    "y = data.groupby(['region_id', 'time_slot']).agg({'order_gap': ['mean']})\n",
    "y.columns = ['order_gap']\n",
    "lr.fit(X, y)\n",
    "\n",
    "# Predict the order gap for each region and time slot\n",
    "X_pred = data.groupby(['region_id', 'time_slot']).mean().reset_index().drop(['region_id', 'time_slot'], axis=1)\n",
    "y_pred = lr.predict(X_pred)\n",
    "actual_predicted_gaps['predicted_gap'] = y_pred\n",
    "\n",
    "# Calculate the mean absolute error\n",
    "mae = np.mean(np.abs(actual_predicted_gaps['actual_gap'] - actual_predicted_gaps['predicted_gap']))\n",
    "\n",
    "# Print the result\n",
    "print('Mean Absolute Error:', mae)"
   ]
  },
  {
   "attachments": {},
   "cell_type": "markdown",
   "metadata": {},
   "source": [
    "## Decision Tree Regression:"
   ]
  },
  {
   "cell_type": "code",
   "execution_count": 3,
   "metadata": {},
   "outputs": [
    {
     "name": "stdout",
     "output_type": "stream",
     "text": [
      "Accuracy of Decision Tree Regression model: 0.9998918457970413\n"
     ]
    }
   ],
   "source": [
    "from sklearn.tree import DecisionTreeRegressor\n",
    "from sklearn.model_selection import train_test_split\n",
    "from sklearn.metrics import r2_score\n",
    "import pandas as pd\n",
    "\n",
    "# Read the CSV file\n",
    "data = pd.read_csv('../dataset/processedData/orders_weather_cluster_map_poi.csv')\n",
    "# Split the data into independent and dependent variables\n",
    "X = data.iloc[:, :-1].values\n",
    "y = data.iloc[:, -1].values\n",
    "\n",
    "# Split the data into training and testing sets\n",
    "X_train, X_test, y_train, y_test = train_test_split(X, y, test_size=0.2, random_state=0)\n",
    "\n",
    "# Create a Decision Tree Regression model and fit the data\n",
    "dtr = DecisionTreeRegressor()\n",
    "dtr.fit(X_train, y_train)\n",
    "\n",
    "# Predict the values for the test set\n",
    "y_pred = dtr.predict(X_test)\n",
    "\n",
    "# Compute the R-squared score for the Decision Tree Regression model\n",
    "accuracy = r2_score(y_test, y_pred)\n",
    "print(\"Accuracy of Decision Tree Regression model:\", accuracy)"
   ]
  },
  {
   "attachments": {},
   "cell_type": "markdown",
   "metadata": {},
   "source": [
    "## Random Forest Regression:"
   ]
  },
  {
   "cell_type": "code",
   "execution_count": 4,
   "metadata": {},
   "outputs": [
    {
     "name": "stdout",
     "output_type": "stream",
     "text": [
      "Accuracy of Random Forest Regression model: 0.999856859265141\n"
     ]
    }
   ],
   "source": [
    "from sklearn.ensemble import RandomForestRegressor\n",
    "from sklearn.model_selection import train_test_split\n",
    "from sklearn.metrics import r2_score\n",
    "import pandas as pd\n",
    "\n",
    "# Read the CSV file\n",
    "data = pd.read_csv('../dataset/processedData/orders_weather_cluster_map_poi.csv')\n",
    "\n",
    "# Split the data into independent and dependent variables\n",
    "X = data.iloc[:, :-1].values\n",
    "y = data.iloc[:, -1].values\n",
    "\n",
    "# Split the data into training and testing sets\n",
    "X_train, X_test, y_train, y_test = train_test_split(X, y, test_size=0.2, random_state=0)\n",
    "\n",
    "# Create a Random Forest Regression model and fit the data\n",
    "rfr = RandomForestRegressor(n_estimators=100)\n",
    "rfr.fit(X_train, y_train)\n",
    "\n",
    "# Predict the values for the test set\n",
    "y_pred = rfr.predict(X_test)\n",
    "\n",
    "# Compute the R-squared score for the Random Forest Regression model\n",
    "accuracy = r2_score(y_test, y_pred)\n",
    "print(\"Accuracy of Random Forest Regression model:\", accuracy)"
   ]
  },
  {
   "attachments": {},
   "cell_type": "markdown",
   "metadata": {},
   "source": [
    "## XGBoost Regression:"
   ]
  },
  {
   "cell_type": "code",
   "execution_count": 6,
   "metadata": {},
   "outputs": [
    {
     "name": "stdout",
     "output_type": "stream",
     "text": [
      "Accuracy of Random Forest Regression model: 0.9997347402581984\n"
     ]
    }
   ],
   "source": [
    "from xgboost import XGBRegressor\n",
    "from sklearn.model_selection import train_test_split\n",
    "from sklearn.metrics import r2_score\n",
    "import pandas as pd\n",
    "\n",
    "# Read the CSV file\n",
    "data = pd.read_csv('../dataset/processedData/orders_weather_cluster_map_poi.csv')\n",
    "\n",
    "# Split the data into independent and dependent variables\n",
    "X = data.iloc[:, :-1].values\n",
    "y = data.iloc[:, -1].values\n",
    "\n",
    "# Split the data into training and testing sets\n",
    "X_train, X_test, y_train, y_test = train_test_split(X, y, test_size=0.2, random_state=0)\n",
    "\n",
    "# Create an XGBoost Regression model and fit the data\n",
    "xgbr = XGBRegressor()\n",
    "xgbr.fit(X_train, y_train)\n",
    "\n",
    "# Predict the values for the test set\n",
    "y_pred = xgbr.predict(X_test)\n",
    "\n",
    "\n",
    "# Compute the R-squared score for the XGBoost Regression model\n",
    "accuracy = r2_score(y_test, y_pred)\n",
    "print(\"Accuracy of Random Forest Regression model:\", accuracy)"
   ]
  },
  {
   "cell_type": "code",
   "execution_count": 7,
   "metadata": {},
   "outputs": [
    {
     "ename": "IndexError",
     "evalue": "boolean index did not match indexed array along dimension 0; dimension is 8926 but corresponding boolean dimension is 44629",
     "output_type": "error",
     "traceback": [
      "\u001b[0;31m---------------------------------------------------------------------------\u001b[0m",
      "\u001b[0;31mIndexError\u001b[0m                                Traceback (most recent call last)",
      "Cell \u001b[0;32mIn[7], line 34\u001b[0m\n\u001b[1;32m     32\u001b[0m \u001b[39mfor\u001b[39;00m region \u001b[39min\u001b[39;00m \u001b[39mrange\u001b[39m(num_regions):\n\u001b[1;32m     33\u001b[0m     \u001b[39mfor\u001b[39;00m time_slot \u001b[39min\u001b[39;00m \u001b[39mrange\u001b[39m(num_time_slots):\n\u001b[0;32m---> 34\u001b[0m         actual_gap \u001b[39m=\u001b[39m actual_gaps[(data[\u001b[39m'\u001b[39;49m\u001b[39mregion_id\u001b[39;49m\u001b[39m'\u001b[39;49m] \u001b[39m==\u001b[39;49m region) \u001b[39m&\u001b[39;49m (data[\u001b[39m'\u001b[39;49m\u001b[39mtime_slot\u001b[39;49m\u001b[39m'\u001b[39;49m] \u001b[39m==\u001b[39;49m time_slot)]\n\u001b[1;32m     35\u001b[0m         predicted_gap \u001b[39m=\u001b[39m predicted_gaps[(data[\u001b[39m'\u001b[39m\u001b[39mregion_id\u001b[39m\u001b[39m'\u001b[39m] \u001b[39m==\u001b[39m region) \u001b[39m&\u001b[39m (data[\u001b[39m'\u001b[39m\u001b[39mtime_slot\u001b[39m\u001b[39m'\u001b[39m] \u001b[39m==\u001b[39m time_slot)]\n\u001b[1;32m     36\u001b[0m         abs_diff \u001b[39m=\u001b[39m \u001b[39mabs\u001b[39m(actual_gap \u001b[39m-\u001b[39m predicted_gap)\n",
      "\u001b[0;31mIndexError\u001b[0m: boolean index did not match indexed array along dimension 0; dimension is 8926 but corresponding boolean dimension is 44629"
     ]
    }
   ],
   "source": [
    "from sklearn.linear_model import LinearRegression\n",
    "from sklearn.model_selection import train_test_split\n",
    "from sklearn.metrics import mean_absolute_error\n",
    "import pandas as pd\n",
    "import numpy as np\n",
    "\n",
    "# Read the CSV file\n",
    "data = pd.read_csv('../dataset/processedData/orders_weather_cluster_map_poi.csv')\n",
    "\n",
    "# Split the data into independent and dependent variables\n",
    "X = data.iloc[:, :-1].values\n",
    "y = data.iloc[:, -1].values\n",
    "\n",
    "# Split the data into training and testing sets\n",
    "X_train, X_test, y_train, y_test = train_test_split(X, y, test_size=0.2, random_state=0)\n",
    "\n",
    "# Create a Linear Regression model and fit the data\n",
    "lr = LinearRegression()\n",
    "lr.fit(X_train, y_train)\n",
    "\n",
    "# Predict the values for the test set\n",
    "y_pred = lr.predict(X_test)\n",
    "\n",
    "# Calculate the mean absolute error\n",
    "actual_gaps = y_test\n",
    "predicted_gaps = y_pred\n",
    "num_regions = len(data['region_id'].unique())\n",
    "num_time_slots = len(data['time_slot'].unique())\n",
    "\n",
    "total_mae = 0\n",
    "\n",
    "for region in range(num_regions):\n",
    "    for time_slot in range(num_time_slots):\n",
    "        actual_gap = actual_gaps[(data['region_id'] == region) & (data['time_slot'] == time_slot)]\n",
    "        predicted_gap = predicted_gaps[(data['region_id'] == region) & (data['time_slot'] == time_slot)]\n",
    "        abs_diff = abs(actual_gap - predicted_gap)\n",
    "        total_mae += abs_diff\n",
    "\n",
    "mae = total_mae / (num_regions * num_time_slots)\n",
    "\n",
    "print('Mean Absolute Error:', mae)\n"
   ]
  },
  {
   "cell_type": "code",
   "execution_count": 9,
   "metadata": {},
   "outputs": [
    {
     "name": "stdout",
     "output_type": "stream",
     "text": [
      "Mean Absolute Error: 6.2761405127911265e-15\n"
     ]
    }
   ],
   "source": []
  }
 ],
 "metadata": {
  "kernelspec": {
   "display_name": "Python 3",
   "language": "python",
   "name": "python3"
  },
  "language_info": {
   "codemirror_mode": {
    "name": "ipython",
    "version": 3
   },
   "file_extension": ".py",
   "mimetype": "text/x-python",
   "name": "python",
   "nbconvert_exporter": "python",
   "pygments_lexer": "ipython3",
   "version": "3.10.4"
  },
  "orig_nbformat": 4,
  "vscode": {
   "interpreter": {
    "hash": "369f2c481f4da34e4445cda3fffd2e751bd1c4d706f27375911949ba6bb62e1c"
   }
  }
 },
 "nbformat": 4,
 "nbformat_minor": 2
}
